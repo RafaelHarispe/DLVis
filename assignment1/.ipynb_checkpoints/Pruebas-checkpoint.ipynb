{
 "cells": [
  {
   "cell_type": "code",
   "execution_count": 243,
   "metadata": {
    "collapsed": false
   },
   "outputs": [
    {
     "name": "stdout",
     "output_type": "stream",
     "text": [
      "---------------\n",
      "\n",
      "scoress Max1: [[ 1.3 -0.1  0.6]\n",
      " [ 1.4  0.9  1.6]\n",
      " [ 1.9 -2.1 -0.4]\n",
      " [ 0.2 -1.5 -2. ]\n",
      " [ 1.1 -2.9 -2.1]\n",
      " [-1.4  1.7 -1.2]] Max [ 1.3  1.6  1.9  0.2  1.1  1.7]\n",
      "\n",
      "scoress Max2: [[ 1.3 -0.1  0.6]\n",
      " [ 1.4  0.9  1.6]\n",
      " [ 1.9 -2.1 -0.4]\n",
      " [ 0.2 -1.5 -2. ]\n",
      " [ 1.1 -2.9 -2.1]\n",
      " [-1.4  1.7 -1.2]] Max [[ 1.3]\n",
      " [ 1.6]\n",
      " [ 1.9]\n",
      " [ 0.2]\n",
      " [ 1.1]\n",
      " [ 1.7]]\n",
      "scores restados: [[ 0.  -1.4 -0.7]\n",
      " [-0.2 -0.7  0. ]\n",
      " [ 0.  -4.  -2.3]\n",
      " [ 0.  -1.7 -2.2]\n",
      " [ 0.  -4.  -3.2]\n",
      " [-3.1  0.  -2.9]]\n",
      "scores restados: [[ 0.  -1.4 -0.7]\n",
      " [-0.2 -0.7  0. ]\n",
      " [ 0.  -4.  -2.3]\n",
      " [ 0.  -1.7 -2.2]\n",
      " [ 0.  -4.  -3.2]\n",
      " [-3.1  0.  -2.9]]\n",
      "exponencial scores [[ 3.66929667  0.90483742  1.8221188 ]\n",
      " [ 4.05519997  2.45960311  4.95303242]\n",
      " [ 6.68589444  0.12245643  0.67032005]\n",
      " [ 1.22140276  0.22313016  0.13533528]\n",
      " [ 3.00416602  0.05502322  0.12245643]\n",
      " [ 0.24659696  5.47394739  0.30119421]]\n",
      "suma exponencial [  6.39625289  11.4678355    7.47867092   1.5798682    3.18164567\n",
      "   6.02173857]\n",
      "q [[ 0.57366348  0.14146367  0.28487285]\n",
      " [ 0.35361511  0.21447841  0.43190648]\n",
      " [ 0.893995    0.01637409  0.08963091]\n",
      " [ 0.77310421  0.1412334   0.08566239]\n",
      " [ 0.94421766  0.01729395  0.03848839]\n",
      " [ 0.04095112  0.90903106  0.05001782]]\n",
      "log loss  [ 0.55571233  1.0395462   0.11205509  1.95734143  4.05739857  2.99537602]\n",
      "loss i [ 0.55571233  1.0395462   0.11205509  1.95734143  4.05739857  2.99537602]\n"
     ]
    }
   ],
   "source": [
    "#W = np.random.random(2 , 3) * 0.0001 \n",
    "\n",
    "W = np.array([[1,2,0], [2,-4,0.5], [3,-1,-0.5]])\n",
    "X = np.array([[0.5,0.4], [0.8,0.3], [0.3,0.8], [-0.4,0.3],[-0.3,0.7],[-0.4,-0.5]])\n",
    "X = np.hstack([X, np.ones((X.shape[0],1))])\n",
    "W = W.T\n",
    "\n",
    "scoress = X.dot(W)\n",
    "\n",
    "\"\"\"scores = X[0].dot(W)\n",
    "print(\"scores:\",scores)\n",
    "scores -=  np.max(scores)\n",
    "print(\"scores restados:\",scores)\n",
    "print(\"exponencial scores\", np.exp(scores))\n",
    "print(\"suma exponencial\", np.sum(np.exp(scores)))\n",
    "q = np.exp(scores) / np.sum(np.exp(scores))\n",
    "print(\"q\",q)\n",
    "print(\"log q0\",-np.log(q[0]))\n",
    "\"\"\"\n",
    "print(\"---------------\")\n",
    "\n",
    "print(\"\\nscoress Max1:\",scoress, \"Max\", np.max(scoress, axis = 1))\n",
    "print(\"\\nscoress Max2:\",scoress, \"Max\", np.amax(scoress, axis =1, keepdims = True))\n",
    "\n",
    "scoressRes = np.subtract(scoress.T, np.max(scoress, axis = 1)).T\n",
    "print(\"scores restados:\",scoressRes)\n",
    "scoressRes2 = np.subtract(scoress, np.amax(scoress, axis = 1, keepdims = True))\n",
    "print(\"scores restados:\",scoressRes2)\n",
    "\n",
    "print(\"exponencial scores\", np.exp(scoress))\n",
    "print(\"suma exponencial\", np.sum(np.exp(scoress), axis = 1))\n",
    "\n",
    "q = (np.exp(scoress).T / np.sum(np.exp(scoress), axis = 1)).T\n",
    "print(\"q\",q)\n",
    "loss = -np.log(q)\n",
    "print(\"log loss \",loss[[0,1,2,3,4,5], [0,0,0,1,1,2]])\n",
    "\n",
    "print(\"loss i\",loss[[0,1,2,3,4,5], [0,0,0,1,1,2]])\n",
    "\n",
    "print(\"---------------\")\n",
    "q[2]\n"
   ]
  },
  {
   "cell_type": "code",
   "execution_count": 281,
   "metadata": {
    "collapsed": false
   },
   "outputs": [
    {
     "name": "stdout",
     "output_type": "stream",
     "text": [
      "[[1 3 7 0]\n",
      " [2 2 5 2]\n",
      " [3 1 6 3]]\n",
      "[[ 1.  3.  7.  0.]\n",
      " [ 2.  2.  5.  2.]\n",
      " [ 3.  1.  6.  3.]]\n"
     ]
    }
   ],
   "source": [
    "X = np.array([[1,2,3],\n",
    "     [3,2,1],\n",
    "     [7,5,6],\n",
    "     [0,2,3]])\n",
    "\n",
    "q = [[1,2],\n",
    "     [0,1],\n",
    "     [8,3],\n",
    "     [2,2]]\n",
    "\n",
    "dW = np.zeros((3,4))\n",
    "\"\"\"for i on images\n",
    "    for j on classes\n",
    "        #dW[,j] += (q[i,j] - (j == y[i])) * X[i]\n",
    "        dW[,j] += (q[i,j] - (j == y[i])) * X[i]\n",
    "\"\"\"\n",
    "\n",
    "#dW[:,1] += X[2] * 2\n",
    "print(X.T)\n",
    "print(dW + X.T)\n",
    "\n"
   ]
  },
  {
   "cell_type": "code",
   "execution_count": 286,
   "metadata": {
    "collapsed": false
   },
   "outputs": [
    {
     "data": {
      "text/plain": [
       "((20, 10), (5,))"
      ]
     },
     "execution_count": 286,
     "metadata": {},
     "output_type": "execute_result"
    }
   ],
   "source": [
    "np.random.seed(1)\n",
    "X = 10 * np.random.randn(20, 10)\n",
    "y = np.array([0, 1, 2, 2, 1])\n",
    "X.shape, y.shape"
   ]
  },
  {
   "cell_type": "code",
   "execution_count": 291,
   "metadata": {
    "collapsed": false
   },
   "outputs": [
    {
     "data": {
      "text/plain": [
       "array([4, 6])"
      ]
     },
     "execution_count": 291,
     "metadata": {},
     "output_type": "execute_result"
    }
   ],
   "source": [
    "dscores = [[1,2],\n",
    "        [3,4]\n",
    "]\n",
    "np.sum(dscores, axis = 0)"
   ]
  },
  {
   "cell_type": "code",
   "execution_count": 178,
   "metadata": {
    "collapsed": false,
    "scrolled": true
   },
   "outputs": [
    {
     "name": "stdout",
     "output_type": "stream",
     "text": [
      "[[1 2]\n",
      " [2 2]\n",
      " [3 3]]\n",
      "[[ 0.33333333  0.66666667]\n",
      " [ 1.          1.        ]\n",
      " [ 3.          3.        ]]\n",
      "[[ 0.5         0.66666667]\n",
      " [ 1.          0.66666667]\n",
      " [ 1.5         1.        ]]\n",
      "[[ 0.33333333  0.66666667]\n",
      " [ 0.66666667  0.66666667]\n",
      " [ 1.          1.        ]]\n"
     ]
    }
   ],
   "source": [
    "arr1 = np.array([[1,2],[2,2],[3,3]])\n",
    "print(arr1)\n",
    "print((arr1.T / [3,2,1]).T)\n",
    "print(arr1 / [2,3])\n",
    "print(arr1 / 3)"
   ]
  },
  {
   "cell_type": "markdown",
   "metadata": {},
   "source": [
    "-------------------\n",
    "## Net"
   ]
  },
  {
   "cell_type": "code",
   "execution_count": 311,
   "metadata": {
    "collapsed": false
   },
   "outputs": [
    {
     "data": {
      "text/plain": [
       "((5, 2), (5,), (2, 10))"
      ]
     },
     "execution_count": 311,
     "metadata": {},
     "output_type": "execute_result"
    }
   ],
   "source": [
    "hidden_size = 10\n",
    "output_size = 2\n",
    "\n",
    "X = np.array([[1,2],\n",
    "              [1,-1],\n",
    "              [2,0],\n",
    "              [2,1],\n",
    "              [2,3]])\n",
    "\n",
    "y = np.array([1,0,0,0,1])\n",
    "X.shape, y. shape\n",
    "\n",
    "W1 = 1e-4 * np.random.randn(2, hidden_size)\n",
    "b1 = np.zeros(hidden_size)\n",
    "W2 = 1e-4 * np.random.randn(2, output_size)\n",
    "b2 = np.zeros(hidden_size)\n",
    "\n",
    "\n",
    "X.shape, y.shape, W1.shape"
   ]
  },
  {
   "cell_type": "code",
   "execution_count": null,
   "metadata": {
    "collapsed": true
   },
   "outputs": [],
   "source": []
  }
 ],
 "metadata": {
  "kernelspec": {
   "display_name": "Python 3",
   "language": "python",
   "name": "python3"
  },
  "language_info": {
   "codemirror_mode": {
    "name": "ipython",
    "version": 3
   },
   "file_extension": ".py",
   "mimetype": "text/x-python",
   "name": "python",
   "nbconvert_exporter": "python",
   "pygments_lexer": "ipython3",
   "version": "3.6.0"
  }
 },
 "nbformat": 4,
 "nbformat_minor": 0
}
