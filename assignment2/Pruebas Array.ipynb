{
 "cells": [
  {
   "cell_type": "code",
   "execution_count": 40,
   "metadata": {
    "collapsed": false
   },
   "outputs": [
    {
     "data": {
      "text/plain": [
       "(4, 2, 3, 4)"
      ]
     },
     "execution_count": 40,
     "metadata": {},
     "output_type": "execute_result"
    }
   ],
   "source": [
    "import numpy as np\n",
    "arr = np.array(\n",
    "[[\n",
    "  [\n",
    "    [0,1,2,3],\n",
    "    [3,2,1,0],\n",
    "    [5,4,3,7]\n",
    "  ],[\n",
    "    [10,11,22,33],\n",
    "    [30,20,10,10],\n",
    "    [50,40,30,70]\n",
    "  ]\n",
    "],\n",
    "[\n",
    "  [\n",
    "    [0,1,2,3],\n",
    "    [3,2,1,0],\n",
    "    [5,4,3,7]\n",
    "  ],[\n",
    "    [10,11,22,33],\n",
    "    [30,20,10,10],\n",
    "    [50,40,30,70]\n",
    "  ]\n",
    "],\n",
    "\n",
    "[\n",
    "  [\n",
    "    [0,1,2,3],\n",
    "    [3,2,1,0],\n",
    "    [5,4,3,7]\n",
    "  ],[\n",
    "    [10,11,22,33],\n",
    "    [30,20,10,10],\n",
    "    [50,40,30,70]\n",
    "  ]\n",
    "],\n",
    "\n",
    "[\n",
    "  [\n",
    "    [0,1,2,3],\n",
    "    [3,2,1,0],\n",
    "    [5,4,3,7]\n",
    "  ],[\n",
    "    [10,11,22,33],\n",
    "    [30,20,10,10],\n",
    "    [50,40,30,70]\n",
    "  ]\n",
    "]\n",
    "\n",
    "])\n",
    "arr.shape"
   ]
  },
  {
   "cell_type": "code",
   "execution_count": 42,
   "metadata": {
    "collapsed": false
   },
   "outputs": [
    {
     "data": {
      "text/plain": [
       "(4, 4, 3, 2)"
      ]
     },
     "execution_count": 42,
     "metadata": {},
     "output_type": "execute_result"
    }
   ],
   "source": [
    "arr.transpose(0,3,2,1).shape"
   ]
  },
  {
   "cell_type": "code",
   "execution_count": 49,
   "metadata": {
    "collapsed": false
   },
   "outputs": [
    {
     "data": {
      "text/plain": [
       "array([  2.58333333,  28.        ])"
      ]
     },
     "execution_count": 49,
     "metadata": {},
     "output_type": "execute_result"
    }
   ],
   "source": [
    "np.mean(arr.transpose(0,3,2,1).reshape(16*3, 2), axis=0)"
   ]
  },
  {
   "cell_type": "code",
   "execution_count": 39,
   "metadata": {
    "collapsed": false,
    "scrolled": true
   },
   "outputs": [
    {
     "data": {
      "text/plain": [
       "array([[ 16.33333333,  13.        ,  11.33333333,  20.5       ]])"
      ]
     },
     "execution_count": 39,
     "metadata": {},
     "output_type": "execute_result"
    }
   ],
   "source": [
    "np.mean(arr.reshape((24,4)), axis = 0, keepdims=True)"
   ]
  },
  {
   "cell_type": "code",
   "execution_count": 22,
   "metadata": {
    "collapsed": false
   },
   "outputs": [
    {
     "data": {
      "text/plain": [
       "array([[[ 0,  1,  2,  3],\n",
       "        [ 3,  2,  1,  0],\n",
       "        [ 5,  4,  3,  7]],\n",
       "\n",
       "       [[10, 10, 20, 30],\n",
       "        [30, 20, 10,  0],\n",
       "        [50, 40, 30, 70]]])"
      ]
     },
     "execution_count": 22,
     "metadata": {},
     "output_type": "execute_result"
    }
   ],
   "source": [
    "img = np.array(\n",
    "[[[0,1,2,3],\n",
    "    [3,2,1,0],\n",
    "    [5,4,3,7]],\n",
    "[ [10,10,20,30],\n",
    "    [30,20,10,0],\n",
    "    [50,40,30,70]]\n",
    "])\n",
    "img"
   ]
  },
  {
   "cell_type": "code",
   "execution_count": 24,
   "metadata": {
    "collapsed": false
   },
   "outputs": [
    {
     "data": {
      "text/plain": [
       "(2, 3, 4)"
      ]
     },
     "execution_count": 24,
     "metadata": {},
     "output_type": "execute_result"
    }
   ],
   "source": [
    "img.shape"
   ]
  },
  {
   "cell_type": "code",
   "execution_count": 23,
   "metadata": {
    "collapsed": false
   },
   "outputs": [
    {
     "data": {
      "text/plain": [
       "array([[ 0,  1,  2,  3,  3,  2,  1,  0,  5,  4,  3,  7],\n",
       "       [10, 10, 20, 30, 30, 20, 10,  0, 50, 40, 30, 70]])"
      ]
     },
     "execution_count": 23,
     "metadata": {},
     "output_type": "execute_result"
    }
   ],
   "source": [
    "img.shape\n",
    "img.reshape(2,12)"
   ]
  },
  {
   "cell_type": "code",
   "execution_count": 34,
   "metadata": {
    "collapsed": false
   },
   "outputs": [
    {
     "data": {
      "text/plain": [
       "array([[10, 10, 20, 30, 30, 20, 10,  0, 50, 40, 30, 70]])"
      ]
     },
     "execution_count": 34,
     "metadata": {},
     "output_type": "execute_result"
    }
   ],
   "source": [
    "np.max(img.reshape(2,12), axis = 0, keepdims=True)"
   ]
  },
  {
   "cell_type": "code",
   "execution_count": 25,
   "metadata": {
    "collapsed": false
   },
   "outputs": [
    {
     "data": {
      "text/plain": [
       "array([[ 0,  1,  2,  3],\n",
       "       [ 3,  2,  1,  0],\n",
       "       [ 5,  4,  3,  7],\n",
       "       [10, 10, 20, 30],\n",
       "       [30, 20, 10,  0],\n",
       "       [50, 40, 30, 70]])"
      ]
     },
     "execution_count": 25,
     "metadata": {},
     "output_type": "execute_result"
    }
   ],
   "source": [
    "img.shape\n",
    "img.reshape(6,4)"
   ]
  },
  {
   "cell_type": "code",
   "execution_count": 27,
   "metadata": {
    "collapsed": false
   },
   "outputs": [
    {
     "data": {
      "text/plain": [
       "array([ 0,  1,  2,  3,  3,  2,  1,  0,  5,  4,  3,  7, 10, 10, 20, 30, 30,\n",
       "       20, 10,  0, 50, 40, 30, 70])"
      ]
     },
     "execution_count": 27,
     "metadata": {},
     "output_type": "execute_result"
    }
   ],
   "source": [
    "img.shape\n",
    "img.reshape(24)"
   ]
  },
  {
   "cell_type": "code",
   "execution_count": 61,
   "metadata": {
    "collapsed": false
   },
   "outputs": [
    {
     "name": "stdout",
     "output_type": "stream",
     "text": [
      "(4, 2, 3, 4)\n"
     ]
    },
    {
     "data": {
      "text/plain": [
       "array([[[[ 2,  1,  0],\n",
       "         [ 4,  3,  7]],\n",
       "\n",
       "        [[20, 10, 10],\n",
       "         [40, 30, 70]]],\n",
       "\n",
       "\n",
       "       [[[ 2,  1,  0],\n",
       "         [ 4,  3,  7]],\n",
       "\n",
       "        [[20, 10, 10],\n",
       "         [40, 30, 70]]],\n",
       "\n",
       "\n",
       "       [[[ 2,  1,  0],\n",
       "         [ 4,  3,  7]],\n",
       "\n",
       "        [[20, 10, 10],\n",
       "         [40, 30, 70]]],\n",
       "\n",
       "\n",
       "       [[[ 2,  1,  0],\n",
       "         [ 4,  3,  7]],\n",
       "\n",
       "        [[20, 10, 10],\n",
       "         [40, 30, 70]]]])"
      ]
     },
     "execution_count": 61,
     "metadata": {},
     "output_type": "execute_result"
    }
   ],
   "source": [
    "print(arr.shape)\n",
    "xmask = arr[:,:,1:4,1:4]\n",
    "xmask"
   ]
  }
 ],
 "metadata": {
  "kernelspec": {
   "display_name": "Python 3",
   "language": "python",
   "name": "python3"
  },
  "language_info": {
   "codemirror_mode": {
    "name": "ipython",
    "version": 3
   },
   "file_extension": ".py",
   "mimetype": "text/x-python",
   "name": "python",
   "nbconvert_exporter": "python",
   "pygments_lexer": "ipython3",
   "version": "3.6.0"
  }
 },
 "nbformat": 4,
 "nbformat_minor": 0
}
